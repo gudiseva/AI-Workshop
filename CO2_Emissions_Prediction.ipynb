{
  "cells": [
    {
      "cell_type": "markdown",
      "metadata": {
        "id": "view-in-github",
        "colab_type": "text"
      },
      "source": [
        "<a href=\"https://colab.research.google.com/github/gudiseva/AI-Workshop/blob/main/CO2_Emissions_Prediction.ipynb\" target=\"_parent\"><img src=\"https://colab.research.google.com/assets/colab-badge.svg\" alt=\"Open In Colab\"/></a>"
      ]
    },
    {
      "cell_type": "markdown",
      "metadata": {
        "id": "rZLtQq0z-q5F"
      },
      "source": [
        "## Topic: CO2 Emissions"
      ]
    },
    {
      "cell_type": "markdown",
      "metadata": {
        "id": "PRiNI9KG-q5J"
      },
      "source": [
        "### Importing Required Libraries "
      ]
    },
    {
      "cell_type": "code",
      "execution_count": 1,
      "metadata": {
        "id": "2ET3TI0D-q5K"
      },
      "outputs": [],
      "source": [
        "# Essential \n",
        "import numpy as np \n",
        "import pandas as pd \n",
        "\n",
        "# Visualization\n",
        "import matplotlib.pyplot as plt\n",
        "import seaborn as sb\n",
        "\n",
        "# encoding \n",
        "from sklearn.preprocessing import LabelEncoder\n",
        "\n",
        "# Normalization\n",
        "from sklearn.preprocessing import PolynomialFeatures\n",
        "\n",
        "# Model Building \n",
        "import sklearn\n",
        "from sklearn.model_selection import train_test_split\n",
        "\n",
        "\n",
        "from sklearn.linear_model import LinearRegression as LR\n",
        "from xgboost import XGBRegressor as XGB \n",
        "from sklearn.ensemble import AdaBoostRegressor as Ada\n",
        "from sklearn.tree import DecisionTreeRegressor as DT\n",
        "from sklearn.ensemble import RandomForestRegressor as RF\n",
        "from sklearn.ensemble import GradientBoostingRegressor as GB\n",
        "\n",
        "# Evaluation \n",
        "from sklearn.metrics import r2_score,mean_squared_error\n",
        "\n",
        "# Cross Validation \n",
        "from sklearn.model_selection import GridSearchCV"
      ]
    },
    {
      "cell_type": "code",
      "execution_count": 2,
      "metadata": {
        "id": "7T980QOR-q5L"
      },
      "outputs": [],
      "source": [
        "#Customised function\n",
        "\n",
        "def missing_cols(df):\n",
        "    '''prints out columns with its amount of missing values with its %'''\n",
        "    total = 0\n",
        "    for col in df.columns:\n",
        "        missing_vals = df[col].isnull().sum()\n",
        "        pct = df[col].isna().mean() * 100\n",
        "        total += missing_vals\n",
        "        if missing_vals != 0:\n",
        "          print('{} => {} [{}%]'.format(col, df[col].isnull().sum(), round(pct, 2)))\n",
        "    \n",
        "    if total == 0:\n",
        "        print(\"no missing values\")"
      ]
    },
    {
      "cell_type": "markdown",
      "metadata": {
        "id": "pI5zwkkH-q5M"
      },
      "source": [
        "### Uploading Training Data"
      ]
    },
    {
      "cell_type": "code",
      "execution_count": 4,
      "metadata": {
        "scrolled": false,
        "colab": {
          "base_uri": "https://localhost:8080/",
          "height": 662
        },
        "id": "4oNP6LVC-q5M",
        "outputId": "1f61c453-4eee-4754-d489-9a000377de1f"
      },
      "outputs": [
        {
          "output_type": "execute_result",
          "data": {
            "text/html": [
              "\n",
              "  <div id=\"df-9da07a1c-63d5-4203-a583-7bb4a116a44e\">\n",
              "    <div class=\"colab-df-container\">\n",
              "      <div>\n",
              "<style scoped>\n",
              "    .dataframe tbody tr th:only-of-type {\n",
              "        vertical-align: middle;\n",
              "    }\n",
              "\n",
              "    .dataframe tbody tr th {\n",
              "        vertical-align: top;\n",
              "    }\n",
              "\n",
              "    .dataframe thead th {\n",
              "        text-align: right;\n",
              "    }\n",
              "</style>\n",
              "<table border=\"1\" class=\"dataframe\">\n",
              "  <thead>\n",
              "    <tr style=\"text-align: right;\">\n",
              "      <th></th>\n",
              "      <th>MODELYEAR</th>\n",
              "      <th>MAKE</th>\n",
              "      <th>MODEL</th>\n",
              "      <th>VEHICLECLASS</th>\n",
              "      <th>ENGINESIZE</th>\n",
              "      <th>CYLINDERS</th>\n",
              "      <th>TRANSMISSION</th>\n",
              "      <th>FUELTYPE</th>\n",
              "      <th>FUELCONSUMPTION_CITY</th>\n",
              "      <th>FUELCONSUMPTION_HWY</th>\n",
              "      <th>FUELCONSUMPTION_COMB</th>\n",
              "      <th>FUELCONSUMPTION_COMB_MPG</th>\n",
              "      <th>CO2EMISSIONS</th>\n",
              "    </tr>\n",
              "  </thead>\n",
              "  <tbody>\n",
              "    <tr>\n",
              "      <th>0</th>\n",
              "      <td>2011</td>\n",
              "      <td>HONDA</td>\n",
              "      <td>ACCORD 4DR SEDAN</td>\n",
              "      <td>FULL-SIZE</td>\n",
              "      <td>3.5</td>\n",
              "      <td>6</td>\n",
              "      <td>A5</td>\n",
              "      <td>X</td>\n",
              "      <td>11.7</td>\n",
              "      <td>7.8</td>\n",
              "      <td>9.9</td>\n",
              "      <td>29</td>\n",
              "      <td>228</td>\n",
              "    </tr>\n",
              "    <tr>\n",
              "      <th>1</th>\n",
              "      <td>2011</td>\n",
              "      <td>SCION</td>\n",
              "      <td>tC</td>\n",
              "      <td>COMPACT</td>\n",
              "      <td>2.5</td>\n",
              "      <td>4</td>\n",
              "      <td>AS6</td>\n",
              "      <td>X</td>\n",
              "      <td>10.2</td>\n",
              "      <td>7.5</td>\n",
              "      <td>9.0</td>\n",
              "      <td>31</td>\n",
              "      <td>207</td>\n",
              "    </tr>\n",
              "    <tr>\n",
              "      <th>2</th>\n",
              "      <td>2011</td>\n",
              "      <td>ROLLS-ROYCE</td>\n",
              "      <td>PHANTOM EWB</td>\n",
              "      <td>FULL-SIZE</td>\n",
              "      <td>6.7</td>\n",
              "      <td>12</td>\n",
              "      <td>A6</td>\n",
              "      <td>Z</td>\n",
              "      <td>20.6</td>\n",
              "      <td>13.4</td>\n",
              "      <td>17.4</td>\n",
              "      <td>16</td>\n",
              "      <td>400</td>\n",
              "    </tr>\n",
              "    <tr>\n",
              "      <th>3</th>\n",
              "      <td>2011</td>\n",
              "      <td>CHEVROLET</td>\n",
              "      <td>COLORADO</td>\n",
              "      <td>PICKUP TRUCK - SMALL</td>\n",
              "      <td>2.9</td>\n",
              "      <td>4</td>\n",
              "      <td>A4</td>\n",
              "      <td>X</td>\n",
              "      <td>12.8</td>\n",
              "      <td>9.6</td>\n",
              "      <td>11.3</td>\n",
              "      <td>25</td>\n",
              "      <td>260</td>\n",
              "    </tr>\n",
              "    <tr>\n",
              "      <th>4</th>\n",
              "      <td>2011</td>\n",
              "      <td>MAZDA</td>\n",
              "      <td>MAZDA2</td>\n",
              "      <td>COMPACT</td>\n",
              "      <td>1.5</td>\n",
              "      <td>4</td>\n",
              "      <td>M5</td>\n",
              "      <td>X</td>\n",
              "      <td>8.0</td>\n",
              "      <td>6.7</td>\n",
              "      <td>7.4</td>\n",
              "      <td>38</td>\n",
              "      <td>170</td>\n",
              "    </tr>\n",
              "    <tr>\n",
              "      <th>...</th>\n",
              "      <td>...</td>\n",
              "      <td>...</td>\n",
              "      <td>...</td>\n",
              "      <td>...</td>\n",
              "      <td>...</td>\n",
              "      <td>...</td>\n",
              "      <td>...</td>\n",
              "      <td>...</td>\n",
              "      <td>...</td>\n",
              "      <td>...</td>\n",
              "      <td>...</td>\n",
              "      <td>...</td>\n",
              "      <td>...</td>\n",
              "    </tr>\n",
              "    <tr>\n",
              "      <th>754</th>\n",
              "      <td>2011</td>\n",
              "      <td>MERCEDES-BENZ</td>\n",
              "      <td>G 55 AMG</td>\n",
              "      <td>SUV</td>\n",
              "      <td>5.4</td>\n",
              "      <td>8</td>\n",
              "      <td>A5</td>\n",
              "      <td>Z</td>\n",
              "      <td>21.8</td>\n",
              "      <td>17.3</td>\n",
              "      <td>19.8</td>\n",
              "      <td>14</td>\n",
              "      <td>455</td>\n",
              "    </tr>\n",
              "    <tr>\n",
              "      <th>755</th>\n",
              "      <td>2011</td>\n",
              "      <td>NISSAN</td>\n",
              "      <td>TITAN</td>\n",
              "      <td>PICKUP TRUCK - STANDARD</td>\n",
              "      <td>5.6</td>\n",
              "      <td>8</td>\n",
              "      <td>A5</td>\n",
              "      <td>X</td>\n",
              "      <td>17.9</td>\n",
              "      <td>12.8</td>\n",
              "      <td>15.6</td>\n",
              "      <td>18</td>\n",
              "      <td>359</td>\n",
              "    </tr>\n",
              "    <tr>\n",
              "      <th>756</th>\n",
              "      <td>2011</td>\n",
              "      <td>BMW</td>\n",
              "      <td>M3 CABRIOLET</td>\n",
              "      <td>SUBCOMPACT</td>\n",
              "      <td>4.0</td>\n",
              "      <td>8</td>\n",
              "      <td>M6</td>\n",
              "      <td>Z</td>\n",
              "      <td>17.4</td>\n",
              "      <td>11.9</td>\n",
              "      <td>14.9</td>\n",
              "      <td>19</td>\n",
              "      <td>343</td>\n",
              "    </tr>\n",
              "    <tr>\n",
              "      <th>757</th>\n",
              "      <td>2011</td>\n",
              "      <td>CHEVROLET</td>\n",
              "      <td>HHR PANEL</td>\n",
              "      <td>SUV</td>\n",
              "      <td>2.2</td>\n",
              "      <td>4</td>\n",
              "      <td>M5</td>\n",
              "      <td>E</td>\n",
              "      <td>14.2</td>\n",
              "      <td>10.2</td>\n",
              "      <td>12.4</td>\n",
              "      <td>23</td>\n",
              "      <td>198</td>\n",
              "    </tr>\n",
              "    <tr>\n",
              "      <th>758</th>\n",
              "      <td>2011</td>\n",
              "      <td>CHEVROLET</td>\n",
              "      <td>SILVERADO 4WD</td>\n",
              "      <td>PICKUP TRUCK - STANDARD</td>\n",
              "      <td>4.8</td>\n",
              "      <td>8</td>\n",
              "      <td>A4</td>\n",
              "      <td>E</td>\n",
              "      <td>23.2</td>\n",
              "      <td>17.8</td>\n",
              "      <td>20.8</td>\n",
              "      <td>14</td>\n",
              "      <td>333</td>\n",
              "    </tr>\n",
              "  </tbody>\n",
              "</table>\n",
              "<p>759 rows × 13 columns</p>\n",
              "</div>\n",
              "      <button class=\"colab-df-convert\" onclick=\"convertToInteractive('df-9da07a1c-63d5-4203-a583-7bb4a116a44e')\"\n",
              "              title=\"Convert this dataframe to an interactive table.\"\n",
              "              style=\"display:none;\">\n",
              "        \n",
              "  <svg xmlns=\"http://www.w3.org/2000/svg\" height=\"24px\"viewBox=\"0 0 24 24\"\n",
              "       width=\"24px\">\n",
              "    <path d=\"M0 0h24v24H0V0z\" fill=\"none\"/>\n",
              "    <path d=\"M18.56 5.44l.94 2.06.94-2.06 2.06-.94-2.06-.94-.94-2.06-.94 2.06-2.06.94zm-11 1L8.5 8.5l.94-2.06 2.06-.94-2.06-.94L8.5 2.5l-.94 2.06-2.06.94zm10 10l.94 2.06.94-2.06 2.06-.94-2.06-.94-.94-2.06-.94 2.06-2.06.94z\"/><path d=\"M17.41 7.96l-1.37-1.37c-.4-.4-.92-.59-1.43-.59-.52 0-1.04.2-1.43.59L10.3 9.45l-7.72 7.72c-.78.78-.78 2.05 0 2.83L4 21.41c.39.39.9.59 1.41.59.51 0 1.02-.2 1.41-.59l7.78-7.78 2.81-2.81c.8-.78.8-2.07 0-2.86zM5.41 20L4 18.59l7.72-7.72 1.47 1.35L5.41 20z\"/>\n",
              "  </svg>\n",
              "      </button>\n",
              "      \n",
              "  <style>\n",
              "    .colab-df-container {\n",
              "      display:flex;\n",
              "      flex-wrap:wrap;\n",
              "      gap: 12px;\n",
              "    }\n",
              "\n",
              "    .colab-df-convert {\n",
              "      background-color: #E8F0FE;\n",
              "      border: none;\n",
              "      border-radius: 50%;\n",
              "      cursor: pointer;\n",
              "      display: none;\n",
              "      fill: #1967D2;\n",
              "      height: 32px;\n",
              "      padding: 0 0 0 0;\n",
              "      width: 32px;\n",
              "    }\n",
              "\n",
              "    .colab-df-convert:hover {\n",
              "      background-color: #E2EBFA;\n",
              "      box-shadow: 0px 1px 2px rgba(60, 64, 67, 0.3), 0px 1px 3px 1px rgba(60, 64, 67, 0.15);\n",
              "      fill: #174EA6;\n",
              "    }\n",
              "\n",
              "    [theme=dark] .colab-df-convert {\n",
              "      background-color: #3B4455;\n",
              "      fill: #D2E3FC;\n",
              "    }\n",
              "\n",
              "    [theme=dark] .colab-df-convert:hover {\n",
              "      background-color: #434B5C;\n",
              "      box-shadow: 0px 1px 3px 1px rgba(0, 0, 0, 0.15);\n",
              "      filter: drop-shadow(0px 1px 2px rgba(0, 0, 0, 0.3));\n",
              "      fill: #FFFFFF;\n",
              "    }\n",
              "  </style>\n",
              "\n",
              "      <script>\n",
              "        const buttonEl =\n",
              "          document.querySelector('#df-9da07a1c-63d5-4203-a583-7bb4a116a44e button.colab-df-convert');\n",
              "        buttonEl.style.display =\n",
              "          google.colab.kernel.accessAllowed ? 'block' : 'none';\n",
              "\n",
              "        async function convertToInteractive(key) {\n",
              "          const element = document.querySelector('#df-9da07a1c-63d5-4203-a583-7bb4a116a44e');\n",
              "          const dataTable =\n",
              "            await google.colab.kernel.invokeFunction('convertToInteractive',\n",
              "                                                     [key], {});\n",
              "          if (!dataTable) return;\n",
              "\n",
              "          const docLinkHtml = 'Like what you see? Visit the ' +\n",
              "            '<a target=\"_blank\" href=https://colab.research.google.com/notebooks/data_table.ipynb>data table notebook</a>'\n",
              "            + ' to learn more about interactive tables.';\n",
              "          element.innerHTML = '';\n",
              "          dataTable['output_type'] = 'display_data';\n",
              "          await google.colab.output.renderOutput(dataTable, element);\n",
              "          const docLink = document.createElement('div');\n",
              "          docLink.innerHTML = docLinkHtml;\n",
              "          element.appendChild(docLink);\n",
              "        }\n",
              "      </script>\n",
              "    </div>\n",
              "  </div>\n",
              "  "
            ],
            "text/plain": [
              "     MODELYEAR           MAKE  ... FUELCONSUMPTION_COMB_MPG CO2EMISSIONS\n",
              "0         2011          HONDA  ...                       29          228\n",
              "1         2011          SCION  ...                       31          207\n",
              "2         2011    ROLLS-ROYCE  ...                       16          400\n",
              "3         2011      CHEVROLET  ...                       25          260\n",
              "4         2011          MAZDA  ...                       38          170\n",
              "..         ...            ...  ...                      ...          ...\n",
              "754       2011  MERCEDES-BENZ  ...                       14          455\n",
              "755       2011         NISSAN  ...                       18          359\n",
              "756       2011            BMW  ...                       19          343\n",
              "757       2011      CHEVROLET  ...                       23          198\n",
              "758       2011      CHEVROLET  ...                       14          333\n",
              "\n",
              "[759 rows x 13 columns]"
            ]
          },
          "metadata": {},
          "execution_count": 4
        }
      ],
      "source": [
        "#df = pd.read_csv('train.csv')\n",
        "df = pd.read_csv('emission_training_data.csv')\n",
        "df"
      ]
    },
    {
      "cell_type": "markdown",
      "metadata": {
        "id": "zOxkF9NV-q5N"
      },
      "source": [
        "### Uploading Testing Data"
      ]
    },
    {
      "cell_type": "code",
      "execution_count": 5,
      "metadata": {
        "colab": {
          "base_uri": "https://localhost:8080/",
          "height": 591
        },
        "id": "AUCG6hjv-q5N",
        "outputId": "cf48a95f-e6b6-4ab5-aae3-17e4d65eb375"
      },
      "outputs": [
        {
          "output_type": "execute_result",
          "data": {
            "text/html": [
              "\n",
              "  <div id=\"df-c267db9e-7be7-4d24-8226-0cc2797c08a0\">\n",
              "    <div class=\"colab-df-container\">\n",
              "      <div>\n",
              "<style scoped>\n",
              "    .dataframe tbody tr th:only-of-type {\n",
              "        vertical-align: middle;\n",
              "    }\n",
              "\n",
              "    .dataframe tbody tr th {\n",
              "        vertical-align: top;\n",
              "    }\n",
              "\n",
              "    .dataframe thead th {\n",
              "        text-align: right;\n",
              "    }\n",
              "</style>\n",
              "<table border=\"1\" class=\"dataframe\">\n",
              "  <thead>\n",
              "    <tr style=\"text-align: right;\">\n",
              "      <th></th>\n",
              "      <th>MODELYEAR</th>\n",
              "      <th>MAKE</th>\n",
              "      <th>MODEL</th>\n",
              "      <th>VEHICLECLASS</th>\n",
              "      <th>ENGINESIZE</th>\n",
              "      <th>CYLINDERS</th>\n",
              "      <th>TRANSMISSION</th>\n",
              "      <th>FUELTYPE</th>\n",
              "      <th>FUELCONSUMPTION_CITY</th>\n",
              "      <th>FUELCONSUMPTION_HWY</th>\n",
              "      <th>FUELCONSUMPTION_COMB</th>\n",
              "      <th>FUELCONSUMPTION_COMB_MPG</th>\n",
              "    </tr>\n",
              "  </thead>\n",
              "  <tbody>\n",
              "    <tr>\n",
              "      <th>0</th>\n",
              "      <td>2011</td>\n",
              "      <td>HONDA</td>\n",
              "      <td>PILOT AWD</td>\n",
              "      <td>SUV</td>\n",
              "      <td>3.5</td>\n",
              "      <td>6</td>\n",
              "      <td>A5</td>\n",
              "      <td>X</td>\n",
              "      <td>14.7</td>\n",
              "      <td>10.7</td>\n",
              "      <td>12.9</td>\n",
              "      <td>22</td>\n",
              "    </tr>\n",
              "    <tr>\n",
              "      <th>1</th>\n",
              "      <td>2011</td>\n",
              "      <td>CADILLAC</td>\n",
              "      <td>CTS AWD</td>\n",
              "      <td>MID-SIZE</td>\n",
              "      <td>3.6</td>\n",
              "      <td>6</td>\n",
              "      <td>AS6</td>\n",
              "      <td>X</td>\n",
              "      <td>13.2</td>\n",
              "      <td>8.8</td>\n",
              "      <td>11.2</td>\n",
              "      <td>25</td>\n",
              "    </tr>\n",
              "    <tr>\n",
              "      <th>2</th>\n",
              "      <td>2011</td>\n",
              "      <td>DODGE</td>\n",
              "      <td>JOURNEY AWD</td>\n",
              "      <td>SUV</td>\n",
              "      <td>3.6</td>\n",
              "      <td>6</td>\n",
              "      <td>AS6</td>\n",
              "      <td>X</td>\n",
              "      <td>14.6</td>\n",
              "      <td>9.9</td>\n",
              "      <td>12.5</td>\n",
              "      <td>23</td>\n",
              "    </tr>\n",
              "    <tr>\n",
              "      <th>3</th>\n",
              "      <td>2011</td>\n",
              "      <td>BMW</td>\n",
              "      <td>323i</td>\n",
              "      <td>COMPACT</td>\n",
              "      <td>2.5</td>\n",
              "      <td>6</td>\n",
              "      <td>M6</td>\n",
              "      <td>Z</td>\n",
              "      <td>12.6</td>\n",
              "      <td>8.2</td>\n",
              "      <td>10.6</td>\n",
              "      <td>27</td>\n",
              "    </tr>\n",
              "    <tr>\n",
              "      <th>4</th>\n",
              "      <td>2011</td>\n",
              "      <td>GMC</td>\n",
              "      <td>YUKON</td>\n",
              "      <td>SUV</td>\n",
              "      <td>5.3</td>\n",
              "      <td>8</td>\n",
              "      <td>A6</td>\n",
              "      <td>E</td>\n",
              "      <td>21.5</td>\n",
              "      <td>14.7</td>\n",
              "      <td>18.5</td>\n",
              "      <td>15</td>\n",
              "    </tr>\n",
              "    <tr>\n",
              "      <th>...</th>\n",
              "      <td>...</td>\n",
              "      <td>...</td>\n",
              "      <td>...</td>\n",
              "      <td>...</td>\n",
              "      <td>...</td>\n",
              "      <td>...</td>\n",
              "      <td>...</td>\n",
              "      <td>...</td>\n",
              "      <td>...</td>\n",
              "      <td>...</td>\n",
              "      <td>...</td>\n",
              "      <td>...</td>\n",
              "    </tr>\n",
              "    <tr>\n",
              "      <th>321</th>\n",
              "      <td>2011</td>\n",
              "      <td>NISSAN</td>\n",
              "      <td>GT-R</td>\n",
              "      <td>SUBCOMPACT</td>\n",
              "      <td>3.8</td>\n",
              "      <td>6</td>\n",
              "      <td>AM6</td>\n",
              "      <td>Z</td>\n",
              "      <td>15.5</td>\n",
              "      <td>11.2</td>\n",
              "      <td>13.6</td>\n",
              "      <td>21</td>\n",
              "    </tr>\n",
              "    <tr>\n",
              "      <th>322</th>\n",
              "      <td>2011</td>\n",
              "      <td>MERCEDES-BENZ</td>\n",
              "      <td>SLS AMG</td>\n",
              "      <td>TWO-SEATER</td>\n",
              "      <td>6.2</td>\n",
              "      <td>8</td>\n",
              "      <td>AS7</td>\n",
              "      <td>Z</td>\n",
              "      <td>17.3</td>\n",
              "      <td>12.1</td>\n",
              "      <td>15.0</td>\n",
              "      <td>19</td>\n",
              "    </tr>\n",
              "    <tr>\n",
              "      <th>323</th>\n",
              "      <td>2011</td>\n",
              "      <td>VOLKSWAGEN</td>\n",
              "      <td>JETTA</td>\n",
              "      <td>COMPACT</td>\n",
              "      <td>2.0</td>\n",
              "      <td>4</td>\n",
              "      <td>AS6</td>\n",
              "      <td>X</td>\n",
              "      <td>10.6</td>\n",
              "      <td>8.0</td>\n",
              "      <td>9.5</td>\n",
              "      <td>30</td>\n",
              "    </tr>\n",
              "    <tr>\n",
              "      <th>324</th>\n",
              "      <td>2011</td>\n",
              "      <td>SUBARU</td>\n",
              "      <td>IMPREZA WAGON AWD</td>\n",
              "      <td>STATION WAGON - SMALL</td>\n",
              "      <td>2.5</td>\n",
              "      <td>4</td>\n",
              "      <td>M5</td>\n",
              "      <td>X</td>\n",
              "      <td>12.2</td>\n",
              "      <td>8.8</td>\n",
              "      <td>10.7</td>\n",
              "      <td>26</td>\n",
              "    </tr>\n",
              "    <tr>\n",
              "      <th>325</th>\n",
              "      <td>2011</td>\n",
              "      <td>AUDI</td>\n",
              "      <td>Q7 TDI (modified)</td>\n",
              "      <td>SUV</td>\n",
              "      <td>3.0</td>\n",
              "      <td>6</td>\n",
              "      <td>AS8</td>\n",
              "      <td>D</td>\n",
              "      <td>13.8</td>\n",
              "      <td>9.8</td>\n",
              "      <td>11.7</td>\n",
              "      <td>24</td>\n",
              "    </tr>\n",
              "  </tbody>\n",
              "</table>\n",
              "<p>326 rows × 12 columns</p>\n",
              "</div>\n",
              "      <button class=\"colab-df-convert\" onclick=\"convertToInteractive('df-c267db9e-7be7-4d24-8226-0cc2797c08a0')\"\n",
              "              title=\"Convert this dataframe to an interactive table.\"\n",
              "              style=\"display:none;\">\n",
              "        \n",
              "  <svg xmlns=\"http://www.w3.org/2000/svg\" height=\"24px\"viewBox=\"0 0 24 24\"\n",
              "       width=\"24px\">\n",
              "    <path d=\"M0 0h24v24H0V0z\" fill=\"none\"/>\n",
              "    <path d=\"M18.56 5.44l.94 2.06.94-2.06 2.06-.94-2.06-.94-.94-2.06-.94 2.06-2.06.94zm-11 1L8.5 8.5l.94-2.06 2.06-.94-2.06-.94L8.5 2.5l-.94 2.06-2.06.94zm10 10l.94 2.06.94-2.06 2.06-.94-2.06-.94-.94-2.06-.94 2.06-2.06.94z\"/><path d=\"M17.41 7.96l-1.37-1.37c-.4-.4-.92-.59-1.43-.59-.52 0-1.04.2-1.43.59L10.3 9.45l-7.72 7.72c-.78.78-.78 2.05 0 2.83L4 21.41c.39.39.9.59 1.41.59.51 0 1.02-.2 1.41-.59l7.78-7.78 2.81-2.81c.8-.78.8-2.07 0-2.86zM5.41 20L4 18.59l7.72-7.72 1.47 1.35L5.41 20z\"/>\n",
              "  </svg>\n",
              "      </button>\n",
              "      \n",
              "  <style>\n",
              "    .colab-df-container {\n",
              "      display:flex;\n",
              "      flex-wrap:wrap;\n",
              "      gap: 12px;\n",
              "    }\n",
              "\n",
              "    .colab-df-convert {\n",
              "      background-color: #E8F0FE;\n",
              "      border: none;\n",
              "      border-radius: 50%;\n",
              "      cursor: pointer;\n",
              "      display: none;\n",
              "      fill: #1967D2;\n",
              "      height: 32px;\n",
              "      padding: 0 0 0 0;\n",
              "      width: 32px;\n",
              "    }\n",
              "\n",
              "    .colab-df-convert:hover {\n",
              "      background-color: #E2EBFA;\n",
              "      box-shadow: 0px 1px 2px rgba(60, 64, 67, 0.3), 0px 1px 3px 1px rgba(60, 64, 67, 0.15);\n",
              "      fill: #174EA6;\n",
              "    }\n",
              "\n",
              "    [theme=dark] .colab-df-convert {\n",
              "      background-color: #3B4455;\n",
              "      fill: #D2E3FC;\n",
              "    }\n",
              "\n",
              "    [theme=dark] .colab-df-convert:hover {\n",
              "      background-color: #434B5C;\n",
              "      box-shadow: 0px 1px 3px 1px rgba(0, 0, 0, 0.15);\n",
              "      filter: drop-shadow(0px 1px 2px rgba(0, 0, 0, 0.3));\n",
              "      fill: #FFFFFF;\n",
              "    }\n",
              "  </style>\n",
              "\n",
              "      <script>\n",
              "        const buttonEl =\n",
              "          document.querySelector('#df-c267db9e-7be7-4d24-8226-0cc2797c08a0 button.colab-df-convert');\n",
              "        buttonEl.style.display =\n",
              "          google.colab.kernel.accessAllowed ? 'block' : 'none';\n",
              "\n",
              "        async function convertToInteractive(key) {\n",
              "          const element = document.querySelector('#df-c267db9e-7be7-4d24-8226-0cc2797c08a0');\n",
              "          const dataTable =\n",
              "            await google.colab.kernel.invokeFunction('convertToInteractive',\n",
              "                                                     [key], {});\n",
              "          if (!dataTable) return;\n",
              "\n",
              "          const docLinkHtml = 'Like what you see? Visit the ' +\n",
              "            '<a target=\"_blank\" href=https://colab.research.google.com/notebooks/data_table.ipynb>data table notebook</a>'\n",
              "            + ' to learn more about interactive tables.';\n",
              "          element.innerHTML = '';\n",
              "          dataTable['output_type'] = 'display_data';\n",
              "          await google.colab.output.renderOutput(dataTable, element);\n",
              "          const docLink = document.createElement('div');\n",
              "          docLink.innerHTML = docLinkHtml;\n",
              "          element.appendChild(docLink);\n",
              "        }\n",
              "      </script>\n",
              "    </div>\n",
              "  </div>\n",
              "  "
            ],
            "text/plain": [
              "     MODELYEAR           MAKE  ... FUELCONSUMPTION_COMB FUELCONSUMPTION_COMB_MPG\n",
              "0         2011          HONDA  ...                 12.9                       22\n",
              "1         2011       CADILLAC  ...                 11.2                       25\n",
              "2         2011          DODGE  ...                 12.5                       23\n",
              "3         2011            BMW  ...                 10.6                       27\n",
              "4         2011            GMC  ...                 18.5                       15\n",
              "..         ...            ...  ...                  ...                      ...\n",
              "321       2011         NISSAN  ...                 13.6                       21\n",
              "322       2011  MERCEDES-BENZ  ...                 15.0                       19\n",
              "323       2011     VOLKSWAGEN  ...                  9.5                       30\n",
              "324       2011         SUBARU  ...                 10.7                       26\n",
              "325       2011           AUDI  ...                 11.7                       24\n",
              "\n",
              "[326 rows x 12 columns]"
            ]
          },
          "metadata": {},
          "execution_count": 5
        }
      ],
      "source": [
        "#df2 = pd.read_csv('test.csv')\n",
        "df2 = pd.read_csv('emissions_testing_data.csv')\n",
        "df2"
      ]
    },
    {
      "cell_type": "markdown",
      "metadata": {
        "id": "7t2jN2_w-q5O"
      },
      "source": [
        "## EDA"
      ]
    },
    {
      "cell_type": "markdown",
      "metadata": {
        "id": "cLplVH0h-q5P"
      },
      "source": [
        "### EDA (Exploratory Data Analysis) is a data analysis technique by which we try to understand the given data and the relationship among those data and also try to find out features , insights and anomalies from the data using statistics and graphical representation."
      ]
    },
    {
      "cell_type": "code",
      "execution_count": null,
      "metadata": {
        "id": "57CtEW3o-q5P"
      },
      "outputs": [],
      "source": [
        "df = df.drop_duplicates()\n",
        "df"
      ]
    },
    {
      "cell_type": "code",
      "execution_count": null,
      "metadata": {
        "id": "y1Mmzdo9-q5P"
      },
      "outputs": [],
      "source": [
        "df.describe()"
      ]
    },
    {
      "cell_type": "code",
      "execution_count": null,
      "metadata": {
        "id": "3eWKscaw-q5Q"
      },
      "outputs": [],
      "source": [
        "df.nunique()"
      ]
    },
    {
      "cell_type": "code",
      "execution_count": null,
      "metadata": {
        "id": "PZ_O8knW-q5Q"
      },
      "outputs": [],
      "source": [
        "df['FUELTYPE'].value_counts()"
      ]
    },
    {
      "cell_type": "code",
      "execution_count": null,
      "metadata": {
        "id": "qAaOHliL-q5Q"
      },
      "outputs": [],
      "source": [
        "sb.pairplot(df)"
      ]
    },
    {
      "cell_type": "code",
      "execution_count": null,
      "metadata": {
        "id": "7FB0HsyL-q5R"
      },
      "outputs": [],
      "source": [
        "sb.heatmap(df.corr(),annot = True, cmap = 'magma')"
      ]
    },
    {
      "cell_type": "code",
      "execution_count": null,
      "metadata": {
        "id": "zMqGYKsQ-q5R"
      },
      "outputs": [],
      "source": [
        "sb.distplot(df['CO2EMISSIONS'], kde = False)"
      ]
    },
    {
      "cell_type": "code",
      "execution_count": null,
      "metadata": {
        "id": "74nlreok-q5R"
      },
      "outputs": [],
      "source": [
        "sb.distplot(df['CYLINDERS'], kde = False)"
      ]
    },
    {
      "cell_type": "code",
      "execution_count": null,
      "metadata": {
        "id": "oBTZNRpa-q5R"
      },
      "outputs": [],
      "source": [
        "plt.figure(figsize = (14,7))\n",
        "sb.countplot( x = 'MAKE', data = df)\n",
        "plt.show()\n",
        "\n",
        "#plt.grid()"
      ]
    },
    {
      "cell_type": "code",
      "execution_count": null,
      "metadata": {
        "id": "_xpaFkeH-q5S"
      },
      "outputs": [],
      "source": [
        "plt.figure(figsize = (16,8))\n",
        "plt.title(\"Box plot for CO2 Emissions\")\n",
        "sb.boxplot( y = 'CO2EMISSIONS', x = 'CYLINDERS', data = df)\n",
        "plt.show()"
      ]
    },
    {
      "cell_type": "code",
      "execution_count": null,
      "metadata": {
        "id": "Q2ZuTddI-q5S"
      },
      "outputs": [],
      "source": [
        "plt.figure(figsize = (16,8))\n",
        "plt.title(\"Scatter plot for CO2 Emissions\")\n",
        "plt.scatter(y = 'CO2EMISSIONS', x = 'CYLINDERS', data = df)"
      ]
    },
    {
      "cell_type": "code",
      "execution_count": null,
      "metadata": {
        "id": "2Jyf7vso-q5S"
      },
      "outputs": [],
      "source": [
        "plt.figure(figsize = (16,8))\n",
        "plt.title(\"Box plot for CO2 Emissions\")\n",
        "sb.boxplot( y = 'CO2EMISSIONS', x = 'FUELTYPE', data = df)\n",
        "plt.show()"
      ]
    },
    {
      "cell_type": "code",
      "execution_count": null,
      "metadata": {
        "scrolled": false,
        "id": "0GLNsmWb-q5S"
      },
      "outputs": [],
      "source": [
        "plt.figure(figsize = (16,8))\n",
        "plt.title(\"Scatter plot for CO2 Emissions\")\n",
        "plt.scatter(y = 'CO2EMISSIONS', x = 'FUELCONSUMPTION_CITY', data = df)"
      ]
    },
    {
      "cell_type": "code",
      "execution_count": null,
      "metadata": {
        "id": "Z3CJ8WVy-q5T"
      },
      "outputs": [],
      "source": [
        "plt.figure(figsize=(16,10))\n",
        "ax = sb.scatterplot(x='FUELCONSUMPTION_CITY',y='CO2EMISSIONS',data=df, hue = 'FUELTYPE', palette='rainbow')\n",
        "ax.set_title('Scatter plot of CO2 Emissions')"
      ]
    },
    {
      "cell_type": "code",
      "execution_count": null,
      "metadata": {
        "id": "uvB0f0fz-q5T"
      },
      "outputs": [],
      "source": [
        "plt.figure(figsize=(16,10))\n",
        "ax = sb.scatterplot(x='FUELCONSUMPTION_CITY',y='CO2EMISSIONS',data=df, hue = 'CYLINDERS', palette='rainbow')\n",
        "ax.set_title('Scatter plot of CO2 Emissions')"
      ]
    },
    {
      "cell_type": "code",
      "execution_count": null,
      "metadata": {
        "id": "CRuY6XdG-q5U"
      },
      "outputs": [],
      "source": [
        "plt.figure(figsize=(16,10))\n",
        "ax = sb.scatterplot(x='FUELCONSUMPTION_HWY',y='CO2EMISSIONS',data=df, hue = 'FUELTYPE', palette='rainbow')\n",
        "ax.set_title('Scatter plot of CO2 Emissions')"
      ]
    },
    {
      "cell_type": "code",
      "execution_count": null,
      "metadata": {
        "id": "kwQYTr2D-q5U"
      },
      "outputs": [],
      "source": [
        "plt.figure(figsize=(16,10))\n",
        "ax = sb.scatterplot(x='FUELCONSUMPTION_COMB',y='CO2EMISSIONS',data=df, hue = 'FUELTYPE', palette='rainbow')\n",
        "ax.set_title('Scatter plot of CO2 Emissions')"
      ]
    },
    {
      "cell_type": "code",
      "execution_count": null,
      "metadata": {
        "scrolled": true,
        "id": "MnEvVeiX-q5U"
      },
      "outputs": [],
      "source": [
        "plt.figure(figsize=(16,10))\n",
        "ax = sb.scatterplot(x='FUELCONSUMPTION_COMB_MPG',y='CO2EMISSIONS',data=df, hue = 'FUELTYPE', palette='rainbow')\n",
        "ax.set_title('Scatter plot of CO2 Emissions')"
      ]
    },
    {
      "cell_type": "markdown",
      "metadata": {
        "id": "CNwJKFwD-q5U"
      },
      "source": [
        "### Preprocessing on Training Data"
      ]
    },
    {
      "cell_type": "code",
      "execution_count": null,
      "metadata": {
        "id": "vTyX5AeY-q5U"
      },
      "outputs": [],
      "source": [
        "missing_cols(df)"
      ]
    },
    {
      "cell_type": "code",
      "execution_count": null,
      "metadata": {
        "id": "CrWGpvwv-q5V"
      },
      "outputs": [],
      "source": [
        "df.nunique()"
      ]
    },
    {
      "cell_type": "code",
      "execution_count": null,
      "metadata": {
        "id": "g2JIImHn-q5V"
      },
      "outputs": [],
      "source": [
        "df.info()"
      ]
    },
    {
      "cell_type": "code",
      "execution_count": null,
      "metadata": {
        "id": "1b13BJjT-q5V"
      },
      "outputs": [],
      "source": [
        "objList = df.select_dtypes(include = \"object\").columns\n",
        "print (objList)"
      ]
    },
    {
      "cell_type": "code",
      "execution_count": null,
      "metadata": {
        "scrolled": true,
        "id": "sUVlBQkq-q5V"
      },
      "outputs": [],
      "source": [
        "#Label Encoding for object to numeric conversion\n",
        "from sklearn.preprocessing import LabelEncoder\n",
        "le = LabelEncoder()\n",
        "\n",
        "for feat in objList:\n",
        "    df[feat] = le.fit_transform(df[feat].astype(str))\n",
        "\n",
        "print (df.info())"
      ]
    },
    {
      "cell_type": "code",
      "execution_count": null,
      "metadata": {
        "id": "Z6-xEvd1-q5W"
      },
      "outputs": [],
      "source": [
        "df"
      ]
    },
    {
      "cell_type": "markdown",
      "metadata": {
        "id": "Rv1U4IUN-q5W"
      },
      "source": [
        "### Preprocessing on Testing Data"
      ]
    },
    {
      "cell_type": "code",
      "execution_count": null,
      "metadata": {
        "id": "agOgI7w2-q5W"
      },
      "outputs": [],
      "source": [
        "objList = df2.select_dtypes(include = \"object\").columns\n",
        "print (objList)"
      ]
    },
    {
      "cell_type": "code",
      "execution_count": null,
      "metadata": {
        "id": "PVSE4Ly5-q5W"
      },
      "outputs": [],
      "source": [
        "#Label Encoding for object to numeric conversion\n",
        "from sklearn.preprocessing import LabelEncoder\n",
        "le = LabelEncoder()\n",
        "\n",
        "for feat in objList:\n",
        "    df2[feat] = le.fit_transform(df2[feat].astype(str))\n",
        "\n",
        "print (df2.info())"
      ]
    },
    {
      "cell_type": "markdown",
      "metadata": {
        "id": "cW7WzSVJ-q5W"
      },
      "source": [
        "### xVar & yVar"
      ]
    },
    {
      "cell_type": "code",
      "execution_count": null,
      "metadata": {
        "id": "T8ueZoRh-q5W"
      },
      "outputs": [],
      "source": [
        "xVar = df.drop(['CO2EMISSIONS'], axis = 1)\n",
        "xVar"
      ]
    },
    {
      "cell_type": "code",
      "execution_count": null,
      "metadata": {
        "id": "b4dDKwZW-q5X"
      },
      "outputs": [],
      "source": [
        "yVar = df['CO2EMISSIONS']\n",
        "yVar"
      ]
    },
    {
      "cell_type": "markdown",
      "metadata": {
        "id": "tvgodmKN-q5X"
      },
      "source": [
        "### Train-test Split"
      ]
    },
    {
      "cell_type": "code",
      "execution_count": null,
      "metadata": {
        "id": "xBLszj_5-q5X"
      },
      "outputs": [],
      "source": [
        "#data split\n",
        "\n",
        "X_train, X_test, y_train, y_test = train_test_split(xVar, yVar, test_size=0.25, random_state = 0)\n",
        "print (X_train.shape, y_train.shape)\n",
        "print (X_test.shape, y_test.shape)"
      ]
    },
    {
      "cell_type": "code",
      "execution_count": null,
      "metadata": {
        "id": "FwvtRV88-q5X"
      },
      "outputs": [],
      "source": [
        "#test data \n",
        "\n",
        "X_test = df2\n",
        "X_test"
      ]
    },
    {
      "cell_type": "code",
      "execution_count": null,
      "metadata": {
        "id": "BjvpWeay-q5X"
      },
      "outputs": [],
      "source": [
        "#test data\n",
        "\n",
        "X_train = xVar\n",
        "y_train = yVar\n",
        "print (X_train.shape, y_train.shape)\n",
        "print (X_test.shape)"
      ]
    },
    {
      "cell_type": "markdown",
      "metadata": {
        "id": "LYFTmo6U-q5X"
      },
      "source": [
        "## Scaling and Normalization\n",
        "\n",
        "### Reference: \n",
        "https://machinelearningmastery.com/polynomial-features-transforms-for-machine-learning/"
      ]
    },
    {
      "cell_type": "code",
      "execution_count": null,
      "metadata": {
        "id": "4rocQYBL-q5X"
      },
      "outputs": [],
      "source": [
        "## Scaling ## Not performed for this dataset \n",
        "\n",
        "from sklearn.preprocessing import StandardScaler\n",
        "scaler = StandardScaler()\n",
        "\n",
        "# transform data\n",
        "X_train = scaler.fit_transform(X_train)\n",
        "X_test = scaler.fit_transform(X_test)"
      ]
    },
    {
      "cell_type": "code",
      "execution_count": null,
      "metadata": {
        "id": "EebRtjRe-q5X"
      },
      "outputs": [],
      "source": [
        "## PolynomialFeatures improves accuracy of Linear regression but not necessarily of decision tree based algorithms \n",
        "\n",
        "quad = PolynomialFeatures (degree = 2)\n",
        "\n",
        "X_train = quad.fit_transform(X_train)\n",
        "X_test = quad.fit_transform(X_test)"
      ]
    },
    {
      "cell_type": "markdown",
      "metadata": {
        "id": "QJkYzLn_-q5Y"
      },
      "source": [
        "## Simple Linear Regression\n",
        "\n",
        "### Reference:\n",
        "https://www.youtube.com/watch?app=desktop&v=U7D1h5bbpcs&feature=youtu.be"
      ]
    },
    {
      "cell_type": "code",
      "execution_count": null,
      "metadata": {
        "scrolled": true,
        "id": "gbFc9LD4-q5Y"
      },
      "outputs": [],
      "source": [
        "import statsmodels.api as sm\n",
        "\n",
        "X_train = sm.add_constant(X_train)\n",
        "X_test = sm.add_constant(X_test)\n",
        "\n",
        "\n",
        "model = sm.OLS(y_train, X_train)\n",
        "model = model.fit()\n",
        "print(model.summary2())"
      ]
    },
    {
      "cell_type": "code",
      "execution_count": null,
      "metadata": {
        "scrolled": true,
        "id": "ou0qstmi-q5Y"
      },
      "outputs": [],
      "source": [
        "predictions = model.predict(X_test)\n",
        "df_results = pd.DataFrame({'Actual': y_test, 'Predicted': predictions})"
      ]
    },
    {
      "cell_type": "code",
      "execution_count": null,
      "metadata": {
        "id": "nIwN3RF6-q5Y"
      },
      "outputs": [],
      "source": [
        "RMSE = np.sqrt(mean_squared_error(y_test, predictions))\n",
        "r2 = r2_score(y_test, predictions)\n",
        "print(RMSE, r2)"
      ]
    },
    {
      "cell_type": "code",
      "execution_count": null,
      "metadata": {
        "id": "UDjzuEBg-q5Y"
      },
      "outputs": [],
      "source": [
        "# Plot the actual vs predicted results\n",
        "plt.figure(figsize=(16,10))\n",
        "sb.lmplot(x='Actual', y='Predicted', data=df_results, fit_reg=False)\n",
        "\n",
        "#Plot the diagonal line\n",
        "d_line= np.arange(df_results.min().min(), df_results.max().max())\n",
        "plt.plot(d_line, d_line, color='red', linestyle='--')\n",
        "plt.show()"
      ]
    },
    {
      "cell_type": "markdown",
      "metadata": {
        "id": "ZW8z8Pdn-q5Y"
      },
      "source": [
        "## Different Algorithms "
      ]
    },
    {
      "cell_type": "code",
      "execution_count": null,
      "metadata": {
        "id": "UGM-iU8U-q5Y"
      },
      "outputs": [],
      "source": [
        "# Implementing models\n",
        "\n",
        "# Linear Regression\n",
        "linear = LR()\n",
        "lr = linear.fit(X_train, y_train)\n",
        "lr.score(X_test,y_test)"
      ]
    },
    {
      "cell_type": "code",
      "execution_count": null,
      "metadata": {
        "id": "But2lnVG-q5Z"
      },
      "outputs": [],
      "source": [
        "# Adaboost Regressor\n",
        "\n",
        "ada = Ada(random_state=0)\n",
        "\n",
        "ada_ = ada.fit(X_train, y_train)\n",
        "\n",
        "ada_.score(X_test,y_test)"
      ]
    },
    {
      "cell_type": "code",
      "execution_count": null,
      "metadata": {
        "id": "57V8yOfe-q5Z"
      },
      "outputs": [],
      "source": [
        "# XGB Regressor\n",
        "\n",
        "xgbregressor = XGB(random_state=0)\n",
        "\n",
        "xgb_ = xgbregressor.fit(X_train, y_train)\n",
        "\n",
        "xgb_.score(X_test,y_test)"
      ]
    },
    {
      "cell_type": "code",
      "execution_count": null,
      "metadata": {
        "id": "lNFYDmCs-q5Z"
      },
      "outputs": [],
      "source": [
        "# Decision Tree Regressor\n",
        "\n",
        "dtr = DT(criterion=\"mse\",\n",
        "        max_depth=6,\n",
        "        max_features=\"auto\",\n",
        "        random_state=0)\n",
        "\n",
        "dtr_ = dtr.fit(X_train, y_train)\n",
        "\n",
        "dtr_.score(X_test,y_test)"
      ]
    },
    {
      "cell_type": "code",
      "execution_count": null,
      "metadata": {
        "id": "aAEuFj2q-q5Z"
      },
      "outputs": [],
      "source": [
        "# Random Tree Regressor\n",
        "\n",
        "rfr = RF(n_estimators=100,\n",
        "        criterion=\"mse\",\n",
        "        max_depth=6,\n",
        "        max_features=\"auto\",\n",
        "        random_state=0)\n",
        "\n",
        "rfr_ = rfr.fit(X_train, y_train)\n",
        "\n",
        "rfr_.score(X_test,y_test)"
      ]
    },
    {
      "cell_type": "markdown",
      "metadata": {
        "id": "xsvF8Xew-q5Z"
      },
      "source": [
        "## How to check if model is overfitting or not "
      ]
    },
    {
      "cell_type": "code",
      "execution_count": null,
      "metadata": {
        "id": "ogPg3N0Z-q5a"
      },
      "outputs": [],
      "source": [
        "forest = RF(n_estimators = 500,\n",
        "            criterion = 'mse',\n",
        "            random_state = 0,\n",
        "            n_jobs = -1)\n",
        "forest.fit(X_train,y_train)\n",
        "forest_train_pred = forest.predict(X_train)\n",
        "forest_test_pred = forest.predict(X_test)\n",
        "\n",
        "print('MSE train data: %.3f, MSE test data: %.3f' % (\n",
        "mean_squared_error(y_train,forest_train_pred),\n",
        "mean_squared_error(y_test,forest_test_pred)))\n",
        "\n",
        "print('R2 train data: %.3f, R2 test data: %.3f' % (\n",
        "r2_score(y_train,forest_train_pred),\n",
        "r2_score(y_test,forest_test_pred)))"
      ]
    },
    {
      "cell_type": "markdown",
      "metadata": {
        "id": "-dbu8ZEg-q5a"
      },
      "source": [
        "### Validating Models"
      ]
    },
    {
      "cell_type": "code",
      "execution_count": null,
      "metadata": {
        "id": "XPUhEKd4-q5a"
      },
      "outputs": [],
      "source": [
        "lr_pred = lr.predict(X_test)\n",
        "ada_pred = ada_.predict(X_test)\n",
        "xgb_pred = xgb_.predict(X_test)\n",
        "dtr_pred = dtr_.predict(X_test)\n",
        "rfr_pred = rfr_.predict(X_test)"
      ]
    },
    {
      "cell_type": "code",
      "execution_count": null,
      "metadata": {
        "id": "q2-6llFD-q5a"
      },
      "outputs": [],
      "source": [
        "# Plot the actual vs predicted results\n",
        "plt.figure(figsize=(16,16))\n",
        "df_results = pd.DataFrame({'Actual': y_test, 'Predicted': lr_pred})\n",
        "\n",
        "sb.lmplot(x='Actual', y='Predicted', data=df_results, fit_reg=False)\n",
        "\n",
        "d_line= np.arange(df_results.min().min(), df_results.max().max())\n",
        "plt.plot(d_line, d_line, color='red', linestyle='--')\n",
        "plt.show()"
      ]
    },
    {
      "cell_type": "code",
      "execution_count": null,
      "metadata": {
        "id": "dtCQ5rI7-q5a"
      },
      "outputs": [],
      "source": [
        "# Plot the actual vs predicted results\n",
        "plt.figure(figsize=(16,16))\n",
        "df_results = pd.DataFrame({'Actual': y_test, 'Predicted': xgb_pred})\n",
        "\n",
        "sb.lmplot(x='Actual', y='Predicted', data=df_results, fit_reg=False)\n",
        "\n",
        "d_line= np.arange(df_results.min().min(), df_results.max().max())\n",
        "plt.plot(d_line, d_line, color='red', linestyle='--')\n",
        "plt.show()"
      ]
    },
    {
      "cell_type": "code",
      "execution_count": null,
      "metadata": {
        "id": "uQblG1eS-q5a"
      },
      "outputs": [],
      "source": [
        "from sklearn.metrics import mean_squared_error"
      ]
    },
    {
      "cell_type": "code",
      "execution_count": null,
      "metadata": {
        "id": "scDKej5q-q5a"
      },
      "outputs": [],
      "source": [
        "linear_mse = mean_squared_error(y_test, lr_pred)\n",
        "ada_mse = mean_squared_error(y_test, ada_pred)\n",
        "xgb_mse = mean_squared_error(y_test, xgb_pred)\n",
        "dtr_mse = mean_squared_error(y_test, dtr_pred)\n",
        "rfr_mse = mean_squared_error(y_test, rfr_pred)"
      ]
    },
    {
      "cell_type": "code",
      "execution_count": null,
      "metadata": {
        "id": "46AeuKoG-q5b"
      },
      "outputs": [],
      "source": [
        "print(pow(linear_mse, 0.5))\n",
        "print(pow(ada_mse, 0.5))\n",
        "print(pow(xgb_mse, 0.5))\n",
        "print(pow(dtr_mse, 0.5))\n",
        "print(pow(rfr_mse, 0.5))"
      ]
    },
    {
      "cell_type": "markdown",
      "metadata": {
        "id": "kWNQoa1k-q5b"
      },
      "source": [
        "## Let's try to Improve the Model "
      ]
    },
    {
      "cell_type": "markdown",
      "metadata": {
        "id": "GI0Ezgr0-q5b"
      },
      "source": [
        "### XGBoost Model "
      ]
    },
    {
      "cell_type": "code",
      "execution_count": null,
      "metadata": {
        "id": "rv6ugE6A-q5b"
      },
      "outputs": [],
      "source": [
        "## Note: It may take a few minutes. \n",
        "\n",
        "xgb1 = XGBR()\n",
        "parameters = {'nthread':[4], \n",
        "              'objective':['reg:squarederror'],\n",
        "              'learning_rate': [0.01, 0.03, 0.1],\n",
        "              'max_depth': [5, 6, 7],\n",
        "              'min_child_weight': [1, 5],\n",
        "              'subsample': [0.6, 0.8, 1.0],\n",
        "              'colsample_bytree': [0.6, 0.8, 1.0],\n",
        "              'n_estimators': [500],\n",
        "              'gamma': [0.5, 1, 1.5, 2, 5]}\n",
        "\n",
        "xgb_grid = GridSearchCV(xgb1,\n",
        "                        parameters,\n",
        "                        cv = 3,\n",
        "                        n_jobs = 5,\n",
        "                        scoring='mean_squared_error',\n",
        "                        verbose=True)\n",
        "\n",
        "xgb_grid.fit(X_train,\n",
        "         y_train)\n",
        "\n",
        "print(xgb_grid.best_score_)\n",
        "print(xgb_grid.best_params_)"
      ]
    },
    {
      "cell_type": "code",
      "execution_count": null,
      "metadata": {
        "id": "GWbjR-cp-q5b"
      },
      "outputs": [],
      "source": [
        "xgboost = XGB(learning_rate=0.04,\n",
        "                       nthread = 4,\n",
        "                       n_estimators=500,\n",
        "                       max_depth=5,\n",
        "                       min_child_weight=1,\n",
        "                       gamma=1.5,\n",
        "                       objective='reg:squarederror',\n",
        "                       subsample= 0.8,\n",
        "                       random_state=42)\n",
        "\n",
        "xgb = xgboost.fit(X_train, y_train)"
      ]
    },
    {
      "cell_type": "markdown",
      "metadata": {
        "id": "Kb9ShYlr-q5b"
      },
      "source": [
        "### Prediction "
      ]
    },
    {
      "cell_type": "code",
      "execution_count": null,
      "metadata": {
        "id": "M8eyPb_3-q5c"
      },
      "outputs": [],
      "source": [
        "prediction = xgb.predict(X_test)\n",
        "prediction"
      ]
    },
    {
      "cell_type": "markdown",
      "metadata": {
        "id": "S4T55PA5-q5c"
      },
      "source": [
        "### RMSE Calculation for training data"
      ]
    },
    {
      "cell_type": "code",
      "execution_count": null,
      "metadata": {
        "id": "2QaWOBuC-q5c"
      },
      "outputs": [],
      "source": [
        "from sklearn.metrics import mean_squared_error\n",
        "RMSE = np.sqrt(mean_squared_error(y_test, prediction))\n",
        "print(RMSE)"
      ]
    },
    {
      "cell_type": "code",
      "execution_count": null,
      "metadata": {
        "id": "wXz4LjcT-q5c"
      },
      "outputs": [],
      "source": [
        "# Plot the actual vs predicted results\n",
        "plt.figure(figsize=(16,16))\n",
        "df_results = pd.DataFrame({'Actual': y_test, 'Predicted': prediction})\n",
        "\n",
        "sb.lmplot(x='Actual', y='Predicted', data=df_results, fit_reg=False)\n",
        "\n",
        "d_line= np.arange(df_results.min().min(), df_results.max().max())\n",
        "plt.plot(d_line, d_line, color='red', linestyle='--')\n",
        "plt.show()"
      ]
    },
    {
      "cell_type": "markdown",
      "metadata": {
        "id": "1wAynitr-q5c"
      },
      "source": [
        "## Decision Tree Regressor "
      ]
    },
    {
      "cell_type": "markdown",
      "metadata": {
        "id": "NIf2bST4-q5c"
      },
      "source": [
        "### Convert into csv "
      ]
    },
    {
      "cell_type": "code",
      "execution_count": null,
      "metadata": {
        "id": "yt904-a2-q5c"
      },
      "outputs": [],
      "source": [
        "from pandas import DataFrame\n",
        "df3 = DataFrame(prediction,columns=['CO2EMISSIONS'], index = False)"
      ]
    },
    {
      "cell_type": "code",
      "execution_count": null,
      "metadata": {
        "id": "1jEweaR2-q5d"
      },
      "outputs": [],
      "source": [
        "df3.to_csv('submission.csv')"
      ]
    },
    {
      "cell_type": "markdown",
      "metadata": {
        "id": "TyeWhMJL-q5d"
      },
      "source": [
        "# End of code"
      ]
    }
  ],
  "metadata": {
    "kernelspec": {
      "display_name": "Python 3",
      "language": "python",
      "name": "python3"
    },
    "language_info": {
      "codemirror_mode": {
        "name": "ipython",
        "version": 3
      },
      "file_extension": ".py",
      "mimetype": "text/x-python",
      "name": "python",
      "nbconvert_exporter": "python",
      "pygments_lexer": "ipython3",
      "version": "3.8.8"
    },
    "colab": {
      "name": "CO2 Emissions Prediction.ipynb",
      "provenance": [],
      "include_colab_link": true
    }
  },
  "nbformat": 4,
  "nbformat_minor": 0
}